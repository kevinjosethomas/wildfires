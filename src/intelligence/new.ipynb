{
 "cells": [
  {
   "cell_type": "code",
   "execution_count": 10,
   "metadata": {},
   "outputs": [],
   "source": [
    "import sqlite3\n",
    "import numpy as np\n",
    "from tqdm import tqdm\n",
    "from joblib import dump\n",
    "from sklearn.metrics import mean_squared_error\n",
    "from sklearn.ensemble import RandomForestRegressor\n",
    "from sklearn.model_selection import train_test_split"
   ]
  },
  {
   "cell_type": "code",
   "execution_count": 11,
   "metadata": {},
   "outputs": [],
   "source": [
    "def parse_dataset():\n",
    "    connection = sqlite3.connect(\"../backend/database.sqlite\")\n",
    "    cursor = connection.cursor()\n",
    "    query_template = \"\"\"\n",
    "    SELECT FIRE_SIZE, LATITUDE, LONGITUDE, DISCOVERY_DOY\n",
    "    FROM Fires\n",
    "    WHERE FIRE_SIZE_CLASS = ?\n",
    "    ORDER BY RANDOM()\n",
    "    LIMIT ?\n",
    "    \"\"\"\n",
    "\n",
    "    fires = []\n",
    "    fire_classes = [\"A\", \"B\", \"C\", \"D\", \"E\", \"F\", \"G\"]\n",
    "\n",
    "    for fire_class in fire_classes:\n",
    "        cursor.execute(query_template, (fire_class, 4000))\n",
    "        class_data = cursor.fetchall()\n",
    "        fires.extend(class_data)\n",
    "\n",
    "    # Initialize lists to store data\n",
    "    data = []\n",
    "    labels = []\n",
    "\n",
    "    # Normalize the day of year\n",
    "    for size, lat, lon, day in tqdm(fires):\n",
    "        normalized_day = day / 366  # Normalize the day of the year\n",
    "        data.append([lat, lon, normalized_day])\n",
    "        labels.append(size)\n",
    "\n",
    "    return np.array(data), np.array(labels)"
   ]
  },
  {
   "cell_type": "code",
   "execution_count": 12,
   "metadata": {},
   "outputs": [
    {
     "name": "stderr",
     "output_type": "stream",
     "text": [
      "100%|██████████| 27773/27773 [00:00<00:00, 2351495.92it/s]\n"
     ]
    },
    {
     "name": "stdout",
     "output_type": "stream",
     "text": [
      "Mean Squared Error: 418271024.7676328\n",
      "Feature Importances: Latitude 0.447772708840805, Longitude 0.3972408638901661, Day of Year 0.15498642726902895\n"
     ]
    }
   ],
   "source": [
    "data, labels = parse_dataset()\n",
    "\n",
    "X_train, X_test, y_train, y_test = train_test_split(\n",
    "    data, labels, test_size=0.2, random_state=42\n",
    ")\n",
    "\n",
    "model = RandomForestRegressor(n_estimators=100, random_state=42)\n",
    "model.fit(X_train, y_train)\n",
    "dump(model, \"model.joblib\")\n",
    "\n",
    "predictions = model.predict(X_test)\n",
    "\n",
    "mse = mean_squared_error(y_test, predictions)\n",
    "print(f\"Mean Squared Error: {mse}\")\n",
    "\n",
    "feature_importance = model.feature_importances_\n",
    "print(\n",
    "    f\"Feature Importances: Latitude {feature_importance[0]}, Longitude {feature_importance[1]}, Day of Year {feature_importance[2]}\"\n",
    ")"
   ]
  }
 ],
 "metadata": {
  "kernelspec": {
   "display_name": "Python 3",
   "language": "python",
   "name": "python3"
  },
  "language_info": {
   "codemirror_mode": {
    "name": "ipython",
    "version": 3
   },
   "file_extension": ".py",
   "mimetype": "text/x-python",
   "name": "python",
   "nbconvert_exporter": "python",
   "pygments_lexer": "ipython3",
   "version": "3.10.14"
  }
 },
 "nbformat": 4,
 "nbformat_minor": 2
}
